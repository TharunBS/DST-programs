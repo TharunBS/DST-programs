{
  "nbformat": 4,
  "nbformat_minor": 0,
  "metadata": {
    "colab": {
      "provenance": []
    },
    "kernelspec": {
      "name": "python3",
      "display_name": "Python 3"
    },
    "language_info": {
      "name": "python"
    }
  },
  "cells": [
    {
      "cell_type": "code",
      "execution_count": 5,
      "metadata": {
        "colab": {
          "base_uri": "https://localhost:8080/"
        },
        "id": "QHojiUMU4fLC",
        "outputId": "0d84f917-f6d4-4e29-ace7-1c0d176d6d91"
      },
      "outputs": [
        {
          "output_type": "stream",
          "name": "stdout",
          "text": [
            "Infix Expression: (a+b)*c+d\n",
            "Postfix Expression: ab+c*d+\n"
          ]
        }
      ],
      "source": [
        "#conversion of infix to postfix\n",
        "def is_operator(char):\n",
        "    return char in {'+', '-', '*', '/'}\n",
        "\n",
        "def precedence(operator):\n",
        "    if operator == '+' or operator == '-':\n",
        "        return 1\n",
        "    elif operator == '*' or operator == '/':\n",
        "        return 2\n",
        "    else:\n",
        "        return 0\n",
        "\n",
        "def infix_to_postfix(infix_expression):\n",
        "    stack = []\n",
        "    postfix_expression = []\n",
        "\n",
        "    for char in infix_expression:\n",
        "        if char.isalnum():\n",
        "\n",
        "            postfix_expression.append(char)\n",
        "        elif char == '(':\n",
        "\n",
        "            stack.append(char)\n",
        "        elif char == ')':\n",
        "\n",
        "            while stack and stack[-1] != '(':\n",
        "                postfix_expression.append(stack.pop())\n",
        "            stack.pop()\n",
        "        elif is_operator(char):\n",
        "\n",
        "            while stack and precedence(stack[-1]) >= precedence(char):\n",
        "                postfix_expression.append(stack.pop())\n",
        "            stack.append(char)\n",
        "\n",
        "    while stack:\n",
        "        postfix_expression.append(stack.pop())\n",
        "\n",
        "    return ''.join(postfix_expression)\n",
        "\n",
        "infix_expression = \"(a+b)*c+d\"\n",
        "postfix_expression = infix_to_postfix(infix_expression)\n",
        "print(\"Infix Expression:\", infix_expression)\n",
        "print(\"Postfix Expression:\", postfix_expression)"
      ]
    },
    {
      "cell_type": "code",
      "source": [
        "#postfix evaluation\n",
        "a = list(input(\"Enter the postfix expression: \").split(\" \"))\n",
        "stack = []\n",
        "for i in a:\n",
        "    if(i in [\"+\", \"-\", \"*\", \"/\"]):\n",
        "        b = stack.pop()\n",
        "        c = stack.pop()\n",
        "        if(i==\"+\"):\n",
        "            stack.append(c+b)\n",
        "        elif(i==\"-\"):\n",
        "            stack.append(c-b)\n",
        "        elif(i==\"*\"):\n",
        "            stack.append(c*b)\n",
        "        elif(i==\"/\"):\n",
        "            stack.append(c/b)\n",
        "    elif i==\" \":\n",
        "        continue\n",
        "    else:\n",
        "        stack.append(int(i))\n",
        "print(\"The result of the expression: \",stack[0])"
      ],
      "metadata": {
        "colab": {
          "base_uri": "https://localhost:8080/"
        },
        "id": "PDVjItR34mWw",
        "outputId": "d55176fa-0fdf-48bc-de58-1468a8810d79"
      },
      "execution_count": 4,
      "outputs": [
        {
          "output_type": "stream",
          "name": "stdout",
          "text": [
            "Enter the postfix expression: 1 2 + 5 *\n",
            "The result of the expression:  15\n"
          ]
        }
      ]
    }
  ]
}